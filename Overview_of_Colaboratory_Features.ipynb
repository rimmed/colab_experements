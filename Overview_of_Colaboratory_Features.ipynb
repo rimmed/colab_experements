{
  "nbformat": 4,
  "nbformat_minor": 0,
  "metadata": {
    "colab": {
      "name": "Overview of Colaboratory Features",
      "provenance": [],
      "collapsed_sections": [],
      "toc_visible": true
    },
    "kernelspec": {
      "name": "python3",
      "display_name": "Python 3"
    },
    "accelerator": "TPU"
  },
  "cells": [
    {
      "cell_type": "code",
      "metadata": {
        "id": "qDwrPHaVQ6pw",
        "colab_type": "code",
        "colab": {
          "base_uri": "https://localhost:8080/",
          "height": 129
        },
        "outputId": "193b1679-3b55-45ba-d2f5-a7b14c451f7b"
      },
      "source": [
        "from google.colab import drive\n",
        "drive.mount('/content/gdrive')"
      ],
      "execution_count": 1,
      "outputs": [
        {
          "output_type": "stream",
          "text": [
            "Go to this URL in a browser: https://accounts.google.com/o/oauth2/auth?client_id=947318989803-6bn6qk8qdgf4n4g3pfee6491hc0brc4i.apps.googleusercontent.com&redirect_uri=urn%3Aietf%3Awg%3Aoauth%3A2.0%3Aoob&scope=email%20https%3A%2F%2Fwww.googleapis.com%2Fauth%2Fdocs.test%20https%3A%2F%2Fwww.googleapis.com%2Fauth%2Fdrive%20https%3A%2F%2Fwww.googleapis.com%2Fauth%2Fdrive.photos.readonly%20https%3A%2F%2Fwww.googleapis.com%2Fauth%2Fpeopleapi.readonly&response_type=code\n",
            "\n",
            "Enter your authorization code:\n",
            "··········\n",
            "Mounted at /content/gdrive\n"
          ],
          "name": "stdout"
        }
      ]
    },
    {
      "cell_type": "code",
      "metadata": {
        "id": "3eYXqTQpg_oN",
        "colab_type": "code",
        "colab": {}
      },
      "source": [
        "# !ls -la gdrive/My\\ Drive/WIDER_FACE\n",
        "# !mkdir WIDER_FACE\n",
        "# !unzip gdrive/My\\ Drive/WIDER_FACE/WIDER_train.zip -d WIDER_FACE/\n",
        "# !unzip gdrive/My\\ Drive/WIDER_FACE/WIDER_test.zip -d WIDER_FACE/\n",
        "# !unzip gdrive/My\\ Drive/WIDER_FACE/WIDER_val.zip -d WIDER_FACE/\n",
        "# !unzip gdrive/My\\ Drive/WIDER_FACE/wider_face_split.zip -d WIDER_FACE/"
      ],
      "execution_count": 0,
      "outputs": []
    }
  ]
}